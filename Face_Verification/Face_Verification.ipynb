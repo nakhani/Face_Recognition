{
  "nbformat": 4,
  "nbformat_minor": 0,
  "metadata": {
    "colab": {
      "provenance": []
    },
    "kernelspec": {
      "name": "python3",
      "display_name": "Python 3"
    },
    "language_info": {
      "name": "python"
    }
  },
  "cells": [
    {
      "cell_type": "code",
      "source": [
        "!pip install insightface"
      ],
      "metadata": {
        "id": "Z5TdlScnomVs"
      },
      "execution_count": null,
      "outputs": []
    },
    {
      "cell_type": "code",
      "source": [
        "!pip install --upgrade onnxruntime\n"
      ],
      "metadata": {
        "id": "6I0EDx7OrD8V"
      },
      "execution_count": null,
      "outputs": []
    },
    {
      "cell_type": "code",
      "source": [
        "!pip install easydict\n"
      ],
      "metadata": {
        "id": "146foRUGro4m"
      },
      "execution_count": null,
      "outputs": []
    },
    {
      "cell_type": "code",
      "execution_count": 11,
      "metadata": {
        "colab": {
          "base_uri": "https://localhost:8080/"
        },
        "id": "aREgBHJMojgn",
        "outputId": "50a8f381-3f99-4f65-cdd5-9378258d9edc"
      },
      "outputs": [
        {
          "output_type": "stream",
          "name": "stdout",
          "text": [
            "download_path: /root/.insightface/models/buffalo_s\n",
            "Downloading /root/.insightface/models/buffalo_s.zip from https://github.com/deepinsight/insightface/releases/download/v0.7/buffalo_s.zip...\n"
          ]
        },
        {
          "output_type": "stream",
          "name": "stderr",
          "text": [
            "100%|██████████| 124617/124617 [00:02<00:00, 50670.61KB/s]\n",
            "/usr/local/lib/python3.11/dist-packages/onnxruntime/capi/onnxruntime_inference_collection.py:121: UserWarning: Specified provider 'CUDAExecutionProvider' is not in available provider names.Available providers: 'AzureExecutionProvider, CPUExecutionProvider'\n",
            "  warnings.warn(\n"
          ]
        },
        {
          "output_type": "stream",
          "name": "stdout",
          "text": [
            "Applied providers: ['CPUExecutionProvider'], with options: {'CPUExecutionProvider': {}}\n",
            "find model: /root/.insightface/models/buffalo_s/1k3d68.onnx landmark_3d_68 ['None', 3, 192, 192] 0.0 1.0\n",
            "Applied providers: ['CPUExecutionProvider'], with options: {'CPUExecutionProvider': {}}\n",
            "find model: /root/.insightface/models/buffalo_s/2d106det.onnx landmark_2d_106 ['None', 3, 192, 192] 0.0 1.0\n",
            "Applied providers: ['CPUExecutionProvider'], with options: {'CPUExecutionProvider': {}}\n",
            "find model: /root/.insightface/models/buffalo_s/det_500m.onnx detection [1, 3, '?', '?'] 127.5 128.0\n",
            "Applied providers: ['CPUExecutionProvider'], with options: {'CPUExecutionProvider': {}}\n",
            "find model: /root/.insightface/models/buffalo_s/genderage.onnx genderage ['None', 3, 96, 96] 0.0 1.0\n",
            "Applied providers: ['CPUExecutionProvider'], with options: {'CPUExecutionProvider': {}}\n",
            "find model: /root/.insightface/models/buffalo_s/w600k_mbf.onnx recognition ['None', 3, 112, 112] 127.5 127.5\n",
            "set det-size: (640, 640)\n",
            "Difference Score: 24.10\n",
            "\n",
            "*Same Person*\n"
          ]
        }
      ],
      "source": [
        "import argparse\n",
        "import numpy as np\n",
        "import cv2\n",
        "from insightface.app import FaceAnalysis\n",
        "\n",
        "\n",
        "parser = argparse.ArgumentParser(description=\"Face comparison using InsightFace\")\n",
        "\n",
        "\n",
        "parser.add_argument('--image1', type=str, default=\"/content/input/image1.jpg\", help=\"Path to first image\")\n",
        "parser.add_argument('--image2', type=str, default=\"/content/input/image2.jpg\", help=\"Path to second image\")\n",
        "\n",
        "\n",
        "opt, unknown = parser.parse_known_args()\n",
        "\n",
        "\n",
        "app = FaceAnalysis(name=\"buffalo_s\", providers=['CUDAExecutionProvider'])\n",
        "app.prepare(ctx_id=0, det_size=(640, 640))\n",
        "\n",
        "\n",
        "image_1 = cv2.imread(opt.image1)\n",
        "image_1 = cv2.cvtColor(image_1, cv2.COLOR_BGR2RGB)\n",
        "image_2 = cv2.imread(opt.image2)\n",
        "image_2 = cv2.cvtColor(image_2, cv2.COLOR_BGR2RGB)\n",
        "\n",
        "\n",
        "result_1 = app.get(image_1)\n",
        "result_2 = app.get(image_2)\n",
        "\n",
        "if result_1 and result_2:\n",
        "    embedding_1 = result_1[0][\"embedding\"]\n",
        "    embedding_2 = result_2[0][\"embedding\"]\n",
        "\n",
        "\n",
        "    diff = np.sqrt(np.sum((embedding_1 - embedding_2) ** 2))\n",
        "\n",
        "\n",
        "    print(f\"Difference Score: {diff:.2f}\")\n",
        "    if diff <= 25:\n",
        "        print(\"\\n*Same Person*\")\n",
        "    else:\n",
        "        print(\"\\n*Different Persons*\")\n",
        "else:\n",
        "    print(\"No faces detected in one or both images.\")\n"
      ]
    }
  ]
}