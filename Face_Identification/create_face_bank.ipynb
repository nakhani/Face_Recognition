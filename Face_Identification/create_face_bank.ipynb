{
  "nbformat": 4,
  "nbformat_minor": 0,
  "metadata": {
    "colab": {
      "provenance": [],
      "gpuType": "T4"
    },
    "kernelspec": {
      "name": "python3",
      "display_name": "Python 3"
    },
    "language_info": {
      "name": "python"
    },
    "accelerator": "GPU"
  },
  "cells": [
    {
      "cell_type": "code",
      "source": [
        "!pip install insightface"
      ],
      "metadata": {
        "id": "Z5TdlScnomVs"
      },
      "execution_count": null,
      "outputs": []
    },
    {
      "cell_type": "code",
      "source": [
        "!pip install --upgrade onnxruntime\n"
      ],
      "metadata": {
        "id": "6I0EDx7OrD8V"
      },
      "execution_count": null,
      "outputs": []
    },
    {
      "cell_type": "code",
      "source": [
        "from google.colab import drive\n",
        "drive.mount('/content/drive')"
      ],
      "metadata": {
        "colab": {
          "base_uri": "https://localhost:8080/"
        },
        "id": "gqY0axxgm8w_",
        "outputId": "2becd5d0-1e0c-4104-e403-d5221f3db845"
      },
      "execution_count": 4,
      "outputs": [
        {
          "output_type": "stream",
          "name": "stdout",
          "text": [
            "Mounted at /content/drive\n"
          ]
        }
      ]
    },
    {
      "cell_type": "code",
      "execution_count": 5,
      "metadata": {
        "colab": {
          "base_uri": "https://localhost:8080/"
        },
        "id": "aREgBHJMojgn",
        "outputId": "0030a039-798e-4977-860e-eb43cbf897fd"
      },
      "outputs": [
        {
          "output_type": "stream",
          "name": "stdout",
          "text": [
            "download_path: /root/.insightface/models/buffalo_s\n",
            "Downloading /root/.insightface/models/buffalo_s.zip from https://github.com/deepinsight/insightface/releases/download/v0.7/buffalo_s.zip...\n"
          ]
        },
        {
          "output_type": "stream",
          "name": "stderr",
          "text": [
            "100%|██████████| 124617/124617 [00:01<00:00, 78979.37KB/s]\n"
          ]
        },
        {
          "output_type": "stream",
          "name": "stdout",
          "text": [
            "Applied providers: ['CPUExecutionProvider'], with options: {'CPUExecutionProvider': {}}\n",
            "find model: /root/.insightface/models/buffalo_s/1k3d68.onnx landmark_3d_68 ['None', 3, 192, 192] 0.0 1.0\n",
            "Applied providers: ['CPUExecutionProvider'], with options: {'CPUExecutionProvider': {}}\n",
            "find model: /root/.insightface/models/buffalo_s/2d106det.onnx landmark_2d_106 ['None', 3, 192, 192] 0.0 1.0\n",
            "Applied providers: ['CPUExecutionProvider'], with options: {'CPUExecutionProvider': {}}\n",
            "find model: /root/.insightface/models/buffalo_s/det_500m.onnx detection [1, 3, '?', '?'] 127.5 128.0\n",
            "Applied providers: ['CPUExecutionProvider'], with options: {'CPUExecutionProvider': {}}\n",
            "find model: /root/.insightface/models/buffalo_s/genderage.onnx genderage ['None', 3, 96, 96] 0.0 1.0\n",
            "Applied providers: ['CPUExecutionProvider'], with options: {'CPUExecutionProvider': {}}\n",
            "find model: /root/.insightface/models/buffalo_s/w600k_mbf.onnx recognition ['None', 3, 112, 112] 127.5 127.5\n",
            "set det-size: (640, 640)\n",
            "⚠️ Warning: More than one face detected in /content/drive/MyDrive/dataset/face_bank/mertdemir/mert1.jpg. Skipping...\n",
            "⚠️ Warning: No face detected in /content/drive/MyDrive/dataset/face_bank/billieeilish/billie2.jpg. Skipping...\n",
            "✅ Face bank saved successfully with 26 persons!\n"
          ]
        }
      ],
      "source": [
        "import os\n",
        "import cv2\n",
        "import numpy as np\n",
        "from insightface.app import FaceAnalysis\n",
        "\n",
        "class CreateFaceBank:\n",
        "    def __init__(self, face_bank_path=\"/content/drive/MyDrive/dataset/face_bank\"):\n",
        "        self.app = FaceAnalysis(name=\"buffalo_s\", providers=['CPUExecutionProvider'])\n",
        "        self.app.prepare(ctx_id=0, det_size=(640, 640))\n",
        "        self.face_bank_path = face_bank_path\n",
        "\n",
        "    def update(self):\n",
        "        face_bank = []\n",
        "\n",
        "        for person_name in os.listdir(self.face_bank_path):\n",
        "            folder_path = os.path.join(self.face_bank_path, person_name)\n",
        "\n",
        "            if os.path.isdir(folder_path):\n",
        "                for file_name in os.listdir(folder_path):\n",
        "                    file_path = os.path.join(folder_path, file_name)\n",
        "\n",
        "                    image = cv2.imread(file_path)\n",
        "                    if image is None:\n",
        "                        print(f\"❌ Error: Could not read image {file_path}. Skipping...\")\n",
        "                        continue\n",
        "\n",
        "                    image = cv2.cvtColor(image, cv2.COLOR_BGR2RGB)\n",
        "                    result = self.app.get(image)\n",
        "\n",
        "                    if not result:\n",
        "                        print(f\"⚠️ Warning: No face detected in {file_path}. Skipping...\")\n",
        "                        continue\n",
        "\n",
        "                    if len(result) > 1:\n",
        "                        print(f\"⚠️ Warning: More than one face detected in {file_path}. Skipping...\")\n",
        "                        continue\n",
        "\n",
        "                    embedding = result[0][\"embedding\"]\n",
        "                    face_data = {\"name\": person_name, \"embedding\": embedding}\n",
        "                    face_bank.append(face_data)\n",
        "\n",
        "        if face_bank:\n",
        "            np.save(\"/content/drive/MyDrive/pre_trained_model/face_bank.npy\", face_bank)\n",
        "            print(f\"✅ Face bank saved successfully with {len(face_bank)} persons!\")\n",
        "        else:\n",
        "            print(\"❌ No valid faces detected. Face bank not created.\")\n",
        "\n",
        "\n",
        "if __name__ == \"__main__\":\n",
        "    face_bank_creator = CreateFaceBank()\n",
        "    face_bank_creator.update()\n"
      ]
    }
  ]
}