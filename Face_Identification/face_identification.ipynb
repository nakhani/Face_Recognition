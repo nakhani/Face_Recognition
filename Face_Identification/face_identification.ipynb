{
  "nbformat": 4,
  "nbformat_minor": 0,
  "metadata": {
    "colab": {
      "provenance": [],
      "gpuType": "T4"
    },
    "kernelspec": {
      "name": "python3",
      "display_name": "Python 3"
    },
    "language_info": {
      "name": "python"
    },
    "accelerator": "GPU"
  },
  "cells": [
    {
      "cell_type": "code",
      "source": [
        "!pip install insightface"
      ],
      "metadata": {
        "id": "Z5TdlScnomVs"
      },
      "execution_count": null,
      "outputs": []
    },
    {
      "cell_type": "code",
      "source": [
        "!pip install --upgrade onnxruntime\n"
      ],
      "metadata": {
        "id": "6I0EDx7OrD8V"
      },
      "execution_count": null,
      "outputs": []
    },
    {
      "cell_type": "code",
      "source": [
        "from google.colab import drive\n",
        "drive.mount('/content/drive')"
      ],
      "metadata": {
        "id": "gqY0axxgm8w_"
      },
      "execution_count": null,
      "outputs": []
    },
    {
      "cell_type": "code",
      "source": [
        "!pip install easydict\n"
      ],
      "metadata": {
        "id": "Dj4p2LelqE9S"
      },
      "execution_count": null,
      "outputs": []
    },
    {
      "cell_type": "code",
      "source": [
        "import argparse\n",
        "import cv2\n",
        "import numpy as np\n",
        "from insightface.app import FaceAnalysis\n",
        "from create_face_bank import CreateFaceBank\n",
        "\n",
        "class FaceIdentification:\n",
        "    def __init__(self):\n",
        "        try:\n",
        "            self.app = FaceAnalysis(name=\"buffalo_s\", providers=['CPUExecutionProvider'])\n",
        "        except TypeError:\n",
        "            self.app = FaceAnalysis(name=\"buffalo_s\")\n",
        "            print(\"⚠️ 'providers' argument not supported. Using default.\")\n",
        "\n",
        "        self.app.prepare(ctx_id=0, det_size=(640, 640))\n",
        "        self.threshold = 25\n",
        "        self.face_bank_path = \"/content/drive/MyDrive/dataset/face_bank\"\n",
        "\n",
        "    def load_image(self, opt):\n",
        "        self.input_image = cv2.imread(opt.image)\n",
        "        self.results = self.app.get(self.input_image)\n",
        "\n",
        "        if not self.results:\n",
        "            print(\"⚠️ No face detected in the input image. Exiting...\")\n",
        "            return\n",
        "\n",
        "    def load_face_bank(self):\n",
        "        self.face_bank = np.load(\"/content/drive/MyDrive/pre_trained_model/face_bank.npy\", allow_pickle=True)\n",
        "\n",
        "    def update_face_bank(self):\n",
        "        face_bank_creator = CreateFaceBank(self.face_bank_path)\n",
        "        face_bank_creator.update(self.face_bank_path)\n",
        "\n",
        "    def identification(self, opt):\n",
        "        for result in self.results:\n",
        "            cv2.rectangle(self.input_image, (int(result.bbox[0]), int(result.bbox[1])),\n",
        "                          (int(result.bbox[2]), int(result.bbox[3])), (0, 255, 0), 4)\n",
        "\n",
        "            for person in self.face_bank:\n",
        "                distance = np.sqrt(np.sum((person[\"embedding\"] - result[\"embedding\"]) ** 2))\n",
        "                if distance <= opt.threshold:\n",
        "                    cv2.putText(self.input_image, person[\"name\"],\n",
        "                                (int(result.bbox[0]) - 50, int(result.bbox[1]) - 10),\n",
        "                                fontFace=cv2.FONT_HERSHEY_SIMPLEX, fontScale=1,\n",
        "                                color=(0, 255, 0), thickness=2)\n",
        "                    break\n",
        "            else:\n",
        "                cv2.putText(self.input_image, \"Unknown\",\n",
        "                            (int(result.bbox[0]) - 50, int(result.bbox[1]) - 10),\n",
        "                            fontFace=cv2.FONT_HERSHEY_SIMPLEX, fontScale=1,\n",
        "                            color=(0, 0, 255), thickness=2)\n",
        "\n",
        "        cv2.imwrite(\"result_image_4.jpg\", self.input_image)\n",
        "        print(\"✅ Identification completed. Result saved.\")\n",
        "\n",
        "if __name__ == \"__main__\":\n",
        "    parser = argparse.ArgumentParser()\n",
        "    parser.add_argument('--image', type=str, default=\"/content/images_4.jpg\")\n",
        "    parser.add_argument('--threshold', type=int, default=25)\n",
        "    parser.add_argument('--update', action='store_true')\n",
        "\n",
        "    # FIX: Ignore unrecognized arguments (solves Colab issue)\n",
        "    opt, unknown = parser.parse_known_args()\n",
        "\n",
        "    obj = FaceIdentification()\n",
        "    obj.load_image(opt)\n",
        "\n",
        "    if opt.update:\n",
        "        obj.update_face_bank()\n",
        "\n",
        "    obj.load_face_bank()\n",
        "    obj.identification(opt)\n"
      ],
      "metadata": {
        "colab": {
          "base_uri": "https://localhost:8080/"
        },
        "id": "4FJRje3npHXY",
        "outputId": "ed568f7e-7df1-4e05-9813-41334ccc8fb0"
      },
      "execution_count": 21,
      "outputs": [
        {
          "output_type": "stream",
          "name": "stdout",
          "text": [
            "Applied providers: ['CPUExecutionProvider'], with options: {'CPUExecutionProvider': {}}\n",
            "find model: /root/.insightface/models/buffalo_s/1k3d68.onnx landmark_3d_68 ['None', 3, 192, 192] 0.0 1.0\n",
            "Applied providers: ['CPUExecutionProvider'], with options: {'CPUExecutionProvider': {}}\n",
            "find model: /root/.insightface/models/buffalo_s/2d106det.onnx landmark_2d_106 ['None', 3, 192, 192] 0.0 1.0\n",
            "Applied providers: ['CPUExecutionProvider'], with options: {'CPUExecutionProvider': {}}\n",
            "find model: /root/.insightface/models/buffalo_s/det_500m.onnx detection [1, 3, '?', '?'] 127.5 128.0\n",
            "Applied providers: ['CPUExecutionProvider'], with options: {'CPUExecutionProvider': {}}\n",
            "find model: /root/.insightface/models/buffalo_s/genderage.onnx genderage ['None', 3, 96, 96] 0.0 1.0\n",
            "Applied providers: ['CPUExecutionProvider'], with options: {'CPUExecutionProvider': {}}\n",
            "find model: /root/.insightface/models/buffalo_s/w600k_mbf.onnx recognition ['None', 3, 112, 112] 127.5 127.5\n",
            "set det-size: (640, 640)\n",
            "✅ Identification completed. Result saved.\n"
          ]
        }
      ]
    }
  ]
}